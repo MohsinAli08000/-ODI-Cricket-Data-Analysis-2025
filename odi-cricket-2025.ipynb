{
 "cells": [
  {
   "cell_type": "code",
   "execution_count": 1,
   "id": "ce725947",
   "metadata": {
    "_cell_guid": "b1076dfc-b9ad-4769-8c92-a6c4dae69d19",
    "_uuid": "8f2839f25d086af736a60e9eeb907d3b93b6e0e5",
    "execution": {
     "iopub.execute_input": "2025-03-07T07:56:43.800986Z",
     "iopub.status.busy": "2025-03-07T07:56:43.800615Z",
     "iopub.status.idle": "2025-03-07T07:56:44.755938Z",
     "shell.execute_reply": "2025-03-07T07:56:44.754625Z"
    },
    "papermill": {
     "duration": 0.962815,
     "end_time": "2025-03-07T07:56:44.757657",
     "exception": false,
     "start_time": "2025-03-07T07:56:43.794842",
     "status": "completed"
    },
    "tags": []
   },
   "outputs": [
    {
     "name": "stdout",
     "output_type": "stream",
     "text": [
      "/kaggle/input/odi-cricket-data/ODI Cricket Data new.csv\n"
     ]
    }
   ],
   "source": [
    "# This Python 3 environment comes with many helpful analytics libraries installed\n",
    "# It is defined by the kaggle/python Docker image: https://github.com/kaggle/docker-python\n",
    "# For example, here's several helpful packages to load\n",
    "\n",
    "import numpy as np # linear algebra\n",
    "import pandas as pd # data processing, CSV file I/O (e.g. pd.read_csv)\n",
    "\n",
    "# Input data files are available in the read-only \"../input/\" directory\n",
    "# For example, running this (by clicking run or pressing Shift+Enter) will list all files under the input directory\n",
    "\n",
    "import os\n",
    "for dirname, _, filenames in os.walk('/kaggle/input'):\n",
    "    for filename in filenames:\n",
    "        print(os.path.join(dirname, filename))\n",
    "\n",
    "# You can write up to 20GB to the current directory (/kaggle/working/) that gets preserved as output when you create a version using \"Save & Run All\" \n",
    "# You can also write temporary files to /kaggle/temp/, but they won't be saved outside of the current session"
   ]
  },
  {
   "cell_type": "code",
   "execution_count": 2,
   "id": "4f38454c",
   "metadata": {
    "execution": {
     "iopub.execute_input": "2025-03-07T07:56:44.767633Z",
     "iopub.status.busy": "2025-03-07T07:56:44.767085Z",
     "iopub.status.idle": "2025-03-07T07:56:46.599197Z",
     "shell.execute_reply": "2025-03-07T07:56:46.598128Z"
    },
    "papermill": {
     "duration": 1.839062,
     "end_time": "2025-03-07T07:56:46.601090",
     "exception": false,
     "start_time": "2025-03-07T07:56:44.762028",
     "status": "completed"
    },
    "tags": []
   },
   "outputs": [],
   "source": [
    "import pandas as pd\n",
    "import numpy as np\n",
    "import seaborn as sns\n",
    "import matplotlib.pyplot as plt"
   ]
  },
  {
   "cell_type": "code",
   "execution_count": 3,
   "id": "39c8064a",
   "metadata": {
    "execution": {
     "iopub.execute_input": "2025-03-07T07:56:46.610895Z",
     "iopub.status.busy": "2025-03-07T07:56:46.610292Z",
     "iopub.status.idle": "2025-03-07T07:56:46.614606Z",
     "shell.execute_reply": "2025-03-07T07:56:46.613635Z"
    },
    "papermill": {
     "duration": 0.010946,
     "end_time": "2025-03-07T07:56:46.616209",
     "exception": false,
     "start_time": "2025-03-07T07:56:46.605263",
     "status": "completed"
    },
    "tags": []
   },
   "outputs": [],
   "source": [
    "file_path=(\"/kaggle/input/odi-cricket-data/ODI Cricket Data new.csv\")"
   ]
  },
  {
   "cell_type": "code",
   "execution_count": 4,
   "id": "e75214a2",
   "metadata": {
    "execution": {
     "iopub.execute_input": "2025-03-07T07:56:46.625401Z",
     "iopub.status.busy": "2025-03-07T07:56:46.625042Z",
     "iopub.status.idle": "2025-03-07T07:56:46.650344Z",
     "shell.execute_reply": "2025-03-07T07:56:46.649244Z"
    },
    "papermill": {
     "duration": 0.032098,
     "end_time": "2025-03-07T07:56:46.652416",
     "exception": false,
     "start_time": "2025-03-07T07:56:46.620318",
     "status": "completed"
    },
    "tags": []
   },
   "outputs": [],
   "source": [
    "df=pd.read_csv(file_path)"
   ]
  },
  {
   "cell_type": "code",
   "execution_count": 5,
   "id": "2b071dad",
   "metadata": {
    "execution": {
     "iopub.execute_input": "2025-03-07T07:56:46.661697Z",
     "iopub.status.busy": "2025-03-07T07:56:46.661267Z",
     "iopub.status.idle": "2025-03-07T07:56:46.690278Z",
     "shell.execute_reply": "2025-03-07T07:56:46.689231Z"
    },
    "papermill": {
     "duration": 0.03545,
     "end_time": "2025-03-07T07:56:46.691985",
     "exception": false,
     "start_time": "2025-03-07T07:56:46.656535",
     "status": "completed"
    },
    "tags": []
   },
   "outputs": [
    {
     "data": {
      "text/html": [
       "<div>\n",
       "<style scoped>\n",
       "    .dataframe tbody tr th:only-of-type {\n",
       "        vertical-align: middle;\n",
       "    }\n",
       "\n",
       "    .dataframe tbody tr th {\n",
       "        vertical-align: top;\n",
       "    }\n",
       "\n",
       "    .dataframe thead th {\n",
       "        text-align: right;\n",
       "    }\n",
       "</style>\n",
       "<table border=\"1\" class=\"dataframe\">\n",
       "  <thead>\n",
       "    <tr style=\"text-align: right;\">\n",
       "      <th></th>\n",
       "      <th>player_name</th>\n",
       "      <th>role</th>\n",
       "      <th>total_runs</th>\n",
       "      <th>strike_rate</th>\n",
       "      <th>total_balls_faced</th>\n",
       "      <th>total_wickets_taken</th>\n",
       "      <th>total_runs_conceded</th>\n",
       "      <th>total_overs_bowled</th>\n",
       "      <th>total_matches_played</th>\n",
       "      <th>matches_played_as_batter</th>\n",
       "      <th>matches_played_as_bowler</th>\n",
       "      <th>matches_won</th>\n",
       "      <th>matches_lost</th>\n",
       "      <th>player_of_match_awards</th>\n",
       "      <th>team</th>\n",
       "      <th>average</th>\n",
       "      <th>percentage</th>\n",
       "    </tr>\n",
       "  </thead>\n",
       "  <tbody>\n",
       "    <tr>\n",
       "      <th>0</th>\n",
       "      <td>V Kohli</td>\n",
       "      <td>Batter</td>\n",
       "      <td>13784</td>\n",
       "      <td>9.170.381.212.161.530</td>\n",
       "      <td>15031</td>\n",
       "      <td>7</td>\n",
       "      <td>681</td>\n",
       "      <td>671</td>\n",
       "      <td>579</td>\n",
       "      <td>579</td>\n",
       "      <td>0</td>\n",
       "      <td>360</td>\n",
       "      <td>219</td>\n",
       "      <td>41</td>\n",
       "      <td>India</td>\n",
       "      <td>1.969.142.857.142.850</td>\n",
       "      <td>477,93%</td>\n",
       "    </tr>\n",
       "    <tr>\n",
       "      <th>1</th>\n",
       "      <td>KC Sangakkara</td>\n",
       "      <td>Batter</td>\n",
       "      <td>11618</td>\n",
       "      <td>7.939.046.057.127.230</td>\n",
       "      <td>14634</td>\n",
       "      <td>0</td>\n",
       "      <td>0</td>\n",
       "      <td>0</td>\n",
       "      <td>510</td>\n",
       "      <td>510</td>\n",
       "      <td>0</td>\n",
       "      <td>237</td>\n",
       "      <td>273</td>\n",
       "      <td>26</td>\n",
       "      <td>Sri Lanka</td>\n",
       "      <td>0</td>\n",
       "      <td>442,17%</td>\n",
       "    </tr>\n",
       "    <tr>\n",
       "      <th>2</th>\n",
       "      <td>RG Sharma</td>\n",
       "      <td>Batter</td>\n",
       "      <td>10646</td>\n",
       "      <td>9.035.817.348.497.700</td>\n",
       "      <td>11782</td>\n",
       "      <td>11</td>\n",
       "      <td>538</td>\n",
       "      <td>614</td>\n",
       "      <td>577</td>\n",
       "      <td>577</td>\n",
       "      <td>0</td>\n",
       "      <td>358</td>\n",
       "      <td>219</td>\n",
       "      <td>23</td>\n",
       "      <td>India</td>\n",
       "      <td>9.678.181.818.181.810</td>\n",
       "      <td>474,25%</td>\n",
       "    </tr>\n",
       "    <tr>\n",
       "      <th>3</th>\n",
       "      <td>MS Dhoni</td>\n",
       "      <td>Batter</td>\n",
       "      <td>10274</td>\n",
       "      <td>8.497.932.175.351.530</td>\n",
       "      <td>12090</td>\n",
       "      <td>1</td>\n",
       "      <td>32</td>\n",
       "      <td>38</td>\n",
       "      <td>575</td>\n",
       "      <td>575</td>\n",
       "      <td>0</td>\n",
       "      <td>356</td>\n",
       "      <td>219</td>\n",
       "      <td>20</td>\n",
       "      <td>India</td>\n",
       "      <td>10274.0</td>\n",
       "      <td>458,87%</td>\n",
       "    </tr>\n",
       "    <tr>\n",
       "      <th>4</th>\n",
       "      <td>AB de Villiers</td>\n",
       "      <td>Batter</td>\n",
       "      <td>9435</td>\n",
       "      <td>9.944.139.966.273.180</td>\n",
       "      <td>9488</td>\n",
       "      <td>7</td>\n",
       "      <td>205</td>\n",
       "      <td>201</td>\n",
       "      <td>466</td>\n",
       "      <td>466</td>\n",
       "      <td>0</td>\n",
       "      <td>286</td>\n",
       "      <td>180</td>\n",
       "      <td>26</td>\n",
       "      <td>South Africa</td>\n",
       "      <td>1.347.857.142.857.140</td>\n",
       "      <td>497,97%</td>\n",
       "    </tr>\n",
       "  </tbody>\n",
       "</table>\n",
       "</div>"
      ],
      "text/plain": [
       "      player_name    role  total_runs            strike_rate  \\\n",
       "0         V Kohli  Batter       13784  9.170.381.212.161.530   \n",
       "1   KC Sangakkara  Batter       11618  7.939.046.057.127.230   \n",
       "2       RG Sharma  Batter       10646  9.035.817.348.497.700   \n",
       "3        MS Dhoni  Batter       10274  8.497.932.175.351.530   \n",
       "4  AB de Villiers  Batter        9435  9.944.139.966.273.180   \n",
       "\n",
       "   total_balls_faced  total_wickets_taken  total_runs_conceded  \\\n",
       "0              15031                    7                  681   \n",
       "1              14634                    0                    0   \n",
       "2              11782                   11                  538   \n",
       "3              12090                    1                   32   \n",
       "4               9488                    7                  205   \n",
       "\n",
       "   total_overs_bowled  total_matches_played  matches_played_as_batter  \\\n",
       "0                 671                   579                       579   \n",
       "1                   0                   510                       510   \n",
       "2                 614                   577                       577   \n",
       "3                  38                   575                       575   \n",
       "4                 201                   466                       466   \n",
       "\n",
       "   matches_played_as_bowler  matches_won  matches_lost  \\\n",
       "0                         0          360           219   \n",
       "1                         0          237           273   \n",
       "2                         0          358           219   \n",
       "3                         0          356           219   \n",
       "4                         0          286           180   \n",
       "\n",
       "   player_of_match_awards          team                average percentage  \n",
       "0                      41         India  1.969.142.857.142.850    477,93%  \n",
       "1                      26     Sri Lanka                      0    442,17%  \n",
       "2                      23         India  9.678.181.818.181.810    474,25%  \n",
       "3                      20         India                10274.0    458,87%  \n",
       "4                      26  South Africa  1.347.857.142.857.140    497,97%  "
      ]
     },
     "execution_count": 5,
     "metadata": {},
     "output_type": "execute_result"
    }
   ],
   "source": [
    "df.head(5)"
   ]
  },
  {
   "cell_type": "code",
   "execution_count": 6,
   "id": "cbffab42",
   "metadata": {
    "execution": {
     "iopub.execute_input": "2025-03-07T07:56:46.701906Z",
     "iopub.status.busy": "2025-03-07T07:56:46.701522Z",
     "iopub.status.idle": "2025-03-07T07:56:46.711781Z",
     "shell.execute_reply": "2025-03-07T07:56:46.710792Z"
    },
    "papermill": {
     "duration": 0.016942,
     "end_time": "2025-03-07T07:56:46.713387",
     "exception": false,
     "start_time": "2025-03-07T07:56:46.696445",
     "status": "completed"
    },
    "tags": []
   },
   "outputs": [
    {
     "data": {
      "text/plain": [
       "player_name                 0\n",
       "role                        0\n",
       "total_runs                  0\n",
       "strike_rate                 0\n",
       "total_balls_faced           0\n",
       "total_wickets_taken         0\n",
       "total_runs_conceded         0\n",
       "total_overs_bowled          0\n",
       "total_matches_played        0\n",
       "matches_played_as_batter    0\n",
       "matches_played_as_bowler    0\n",
       "matches_won                 0\n",
       "matches_lost                0\n",
       "player_of_match_awards      0\n",
       "team                        0\n",
       "average                     0\n",
       "percentage                  0\n",
       "dtype: int64"
      ]
     },
     "execution_count": 6,
     "metadata": {},
     "output_type": "execute_result"
    }
   ],
   "source": [
    "# there is no null values\n",
    "df.isnull().sum()\n"
   ]
  },
  {
   "cell_type": "code",
   "execution_count": 7,
   "id": "320cb46b",
   "metadata": {
    "execution": {
     "iopub.execute_input": "2025-03-07T07:56:46.723394Z",
     "iopub.status.busy": "2025-03-07T07:56:46.723015Z",
     "iopub.status.idle": "2025-03-07T07:56:46.737530Z",
     "shell.execute_reply": "2025-03-07T07:56:46.736471Z"
    },
    "papermill": {
     "duration": 0.02143,
     "end_time": "2025-03-07T07:56:46.739308",
     "exception": false,
     "start_time": "2025-03-07T07:56:46.717878",
     "status": "completed"
    },
    "tags": []
   },
   "outputs": [
    {
     "data": {
      "text/plain": [
       "0"
      ]
     },
     "execution_count": 7,
     "metadata": {},
     "output_type": "execute_result"
    }
   ],
   "source": [
    "# There is no duplicate value in dataset\n",
    "df.duplicated().sum()"
   ]
  },
  {
   "cell_type": "code",
   "execution_count": 8,
   "id": "7d0ac22b",
   "metadata": {
    "execution": {
     "iopub.execute_input": "2025-03-07T07:56:46.750205Z",
     "iopub.status.busy": "2025-03-07T07:56:46.749878Z",
     "iopub.status.idle": "2025-03-07T07:56:46.768508Z",
     "shell.execute_reply": "2025-03-07T07:56:46.767435Z"
    },
    "papermill": {
     "duration": 0.025964,
     "end_time": "2025-03-07T07:56:46.770360",
     "exception": false,
     "start_time": "2025-03-07T07:56:46.744396",
     "status": "completed"
    },
    "tags": []
   },
   "outputs": [
    {
     "name": "stdout",
     "output_type": "stream",
     "text": [
      "<class 'pandas.core.frame.DataFrame'>\n",
      "RangeIndex: 1540 entries, 0 to 1539\n",
      "Data columns (total 17 columns):\n",
      " #   Column                    Non-Null Count  Dtype \n",
      "---  ------                    --------------  ----- \n",
      " 0   player_name               1540 non-null   object\n",
      " 1   role                      1540 non-null   object\n",
      " 2   total_runs                1540 non-null   int64 \n",
      " 3   strike_rate               1540 non-null   object\n",
      " 4   total_balls_faced         1540 non-null   int64 \n",
      " 5   total_wickets_taken       1540 non-null   int64 \n",
      " 6   total_runs_conceded       1540 non-null   int64 \n",
      " 7   total_overs_bowled        1540 non-null   int64 \n",
      " 8   total_matches_played      1540 non-null   int64 \n",
      " 9   matches_played_as_batter  1540 non-null   int64 \n",
      " 10  matches_played_as_bowler  1540 non-null   int64 \n",
      " 11  matches_won               1540 non-null   int64 \n",
      " 12  matches_lost              1540 non-null   int64 \n",
      " 13  player_of_match_awards    1540 non-null   int64 \n",
      " 14  team                      1540 non-null   object\n",
      " 15  average                   1540 non-null   object\n",
      " 16  percentage                1540 non-null   object\n",
      "dtypes: int64(11), object(6)\n",
      "memory usage: 204.7+ KB\n"
     ]
    }
   ],
   "source": [
    "df.info()"
   ]
  },
  {
   "cell_type": "code",
   "execution_count": 9,
   "id": "ca18f7f9",
   "metadata": {
    "execution": {
     "iopub.execute_input": "2025-03-07T07:56:46.780817Z",
     "iopub.status.busy": "2025-03-07T07:56:46.780465Z",
     "iopub.status.idle": "2025-03-07T07:56:46.791214Z",
     "shell.execute_reply": "2025-03-07T07:56:46.789765Z"
    },
    "papermill": {
     "duration": 0.01756,
     "end_time": "2025-03-07T07:56:46.792796",
     "exception": false,
     "start_time": "2025-03-07T07:56:46.775236",
     "status": "completed"
    },
    "tags": []
   },
   "outputs": [
    {
     "name": "stdout",
     "output_type": "stream",
     "text": [
      "<class 'pandas.core.frame.DataFrame'>\n",
      "RangeIndex: 1540 entries, 0 to 1539\n",
      "Data columns (total 17 columns):\n",
      " #   Column                    Non-Null Count  Dtype \n",
      "---  ------                    --------------  ----- \n",
      " 0   player_name               1540 non-null   object\n",
      " 1   role                      1540 non-null   object\n",
      " 2   total_runs                1540 non-null   int64 \n",
      " 3   strike_rate               1540 non-null   object\n",
      " 4   total_balls_faced         1540 non-null   int64 \n",
      " 5   total_wickets_taken       1540 non-null   int64 \n",
      " 6   total_runs_conceded       1540 non-null   int64 \n",
      " 7   total_overs_bowled        1540 non-null   int64 \n",
      " 8   total_matches_played      1540 non-null   int64 \n",
      " 9   matches_played_as_batter  1540 non-null   int64 \n",
      " 10  matches_played_as_bowler  1540 non-null   int64 \n",
      " 11  matches_won               1540 non-null   int64 \n",
      " 12  matches_lost              1540 non-null   int64 \n",
      " 13  player_of_match_awards    1540 non-null   int64 \n",
      " 14  team                      1540 non-null   object\n",
      " 15  average                   1540 non-null   object\n",
      " 16  percentage                1540 non-null   object\n",
      "dtypes: int64(11), object(6)\n",
      "memory usage: 204.7+ KB\n"
     ]
    }
   ],
   "source": [
    "df.info()"
   ]
  },
  {
   "cell_type": "code",
   "execution_count": 10,
   "id": "0c628b0c",
   "metadata": {
    "execution": {
     "iopub.execute_input": "2025-03-07T07:56:46.803842Z",
     "iopub.status.busy": "2025-03-07T07:56:46.803469Z",
     "iopub.status.idle": "2025-03-07T07:56:46.964743Z",
     "shell.execute_reply": "2025-03-07T07:56:46.963166Z"
    },
    "papermill": {
     "duration": 0.16911,
     "end_time": "2025-03-07T07:56:46.966845",
     "exception": true,
     "start_time": "2025-03-07T07:56:46.797735",
     "status": "failed"
    },
    "tags": []
   },
   "outputs": [
    {
     "ename": "NameError",
     "evalue": "name 're' is not defined",
     "output_type": "error",
     "traceback": [
      "\u001b[0;31m---------------------------------------------------------------------------\u001b[0m",
      "\u001b[0;31mNameError\u001b[0m                                 Traceback (most recent call last)",
      "\u001b[0;32m<ipython-input-10-9289aa827345>\u001b[0m in \u001b[0;36m<cell line: 2>\u001b[0;34m()\u001b[0m\n\u001b[1;32m      1\u001b[0m \u001b[0mdf\u001b[0m\u001b[0;34m[\u001b[0m\u001b[0;34m'strike_rate'\u001b[0m\u001b[0;34m]\u001b[0m\u001b[0;34m=\u001b[0m\u001b[0mdf\u001b[0m\u001b[0;34m[\u001b[0m\u001b[0;34m'strike_rate'\u001b[0m\u001b[0;34m]\u001b[0m\u001b[0;34m.\u001b[0m\u001b[0mastype\u001b[0m\u001b[0;34m(\u001b[0m\u001b[0mstr\u001b[0m\u001b[0;34m)\u001b[0m\u001b[0;34m\u001b[0m\u001b[0;34m\u001b[0m\u001b[0m\n\u001b[0;32m----> 2\u001b[0;31m \u001b[0mdf\u001b[0m\u001b[0;34m[\u001b[0m\u001b[0;34m'strike_rate'\u001b[0m\u001b[0;34m]\u001b[0m \u001b[0;34m=\u001b[0m \u001b[0mdf\u001b[0m\u001b[0;34m[\u001b[0m\u001b[0;34m'strike_rate'\u001b[0m\u001b[0;34m]\u001b[0m\u001b[0;34m.\u001b[0m\u001b[0mapply\u001b[0m\u001b[0;34m(\u001b[0m\u001b[0;32mlambda\u001b[0m \u001b[0mx\u001b[0m\u001b[0;34m:\u001b[0m \u001b[0mre\u001b[0m\u001b[0;34m.\u001b[0m\u001b[0msearch\u001b[0m\u001b[0;34m(\u001b[0m\u001b[0;34mr'\\d+(\\.\\d+)?'\u001b[0m\u001b[0;34m,\u001b[0m \u001b[0mx\u001b[0m\u001b[0;34m)\u001b[0m\u001b[0;34m.\u001b[0m\u001b[0mgroup\u001b[0m\u001b[0;34m(\u001b[0m\u001b[0;36m0\u001b[0m\u001b[0;34m)\u001b[0m \u001b[0;32mif\u001b[0m \u001b[0mre\u001b[0m\u001b[0;34m.\u001b[0m\u001b[0msearch\u001b[0m\u001b[0;34m(\u001b[0m\u001b[0;34mr'\\d+(\\.\\d+)?'\u001b[0m\u001b[0;34m,\u001b[0m \u001b[0mx\u001b[0m\u001b[0;34m)\u001b[0m \u001b[0;32melse\u001b[0m \u001b[0;32mNone\u001b[0m\u001b[0;34m)\u001b[0m\u001b[0;34m\u001b[0m\u001b[0;34m\u001b[0m\u001b[0m\n\u001b[0m\u001b[1;32m      3\u001b[0m \u001b[0mdf\u001b[0m\u001b[0;34m[\u001b[0m\u001b[0;34m'strike_rate'\u001b[0m\u001b[0;34m]\u001b[0m \u001b[0;34m=\u001b[0m \u001b[0mdf\u001b[0m\u001b[0;34m[\u001b[0m\u001b[0;34m'strike_rate'\u001b[0m\u001b[0;34m]\u001b[0m\u001b[0;34m.\u001b[0m\u001b[0mastype\u001b[0m\u001b[0;34m(\u001b[0m\u001b[0mfloat\u001b[0m\u001b[0;34m)\u001b[0m\u001b[0;34m\u001b[0m\u001b[0;34m\u001b[0m\u001b[0m\n",
      "\u001b[0;32m/usr/local/lib/python3.10/dist-packages/pandas/core/series.py\u001b[0m in \u001b[0;36mapply\u001b[0;34m(self, func, convert_dtype, args, by_row, **kwargs)\u001b[0m\n\u001b[1;32m   4922\u001b[0m             \u001b[0margs\u001b[0m\u001b[0;34m=\u001b[0m\u001b[0margs\u001b[0m\u001b[0;34m,\u001b[0m\u001b[0;34m\u001b[0m\u001b[0;34m\u001b[0m\u001b[0m\n\u001b[1;32m   4923\u001b[0m             \u001b[0mkwargs\u001b[0m\u001b[0;34m=\u001b[0m\u001b[0mkwargs\u001b[0m\u001b[0;34m,\u001b[0m\u001b[0;34m\u001b[0m\u001b[0;34m\u001b[0m\u001b[0m\n\u001b[0;32m-> 4924\u001b[0;31m         ).apply()\n\u001b[0m\u001b[1;32m   4925\u001b[0m \u001b[0;34m\u001b[0m\u001b[0m\n\u001b[1;32m   4926\u001b[0m     def _reindex_indexer(\n",
      "\u001b[0;32m/usr/local/lib/python3.10/dist-packages/pandas/core/apply.py\u001b[0m in \u001b[0;36mapply\u001b[0;34m(self)\u001b[0m\n\u001b[1;32m   1425\u001b[0m \u001b[0;34m\u001b[0m\u001b[0m\n\u001b[1;32m   1426\u001b[0m         \u001b[0;31m# self.func is Callable\u001b[0m\u001b[0;34m\u001b[0m\u001b[0;34m\u001b[0m\u001b[0m\n\u001b[0;32m-> 1427\u001b[0;31m         \u001b[0;32mreturn\u001b[0m \u001b[0mself\u001b[0m\u001b[0;34m.\u001b[0m\u001b[0mapply_standard\u001b[0m\u001b[0;34m(\u001b[0m\u001b[0;34m)\u001b[0m\u001b[0;34m\u001b[0m\u001b[0;34m\u001b[0m\u001b[0m\n\u001b[0m\u001b[1;32m   1428\u001b[0m \u001b[0;34m\u001b[0m\u001b[0m\n\u001b[1;32m   1429\u001b[0m     \u001b[0;32mdef\u001b[0m \u001b[0magg\u001b[0m\u001b[0;34m(\u001b[0m\u001b[0mself\u001b[0m\u001b[0;34m)\u001b[0m\u001b[0;34m:\u001b[0m\u001b[0;34m\u001b[0m\u001b[0;34m\u001b[0m\u001b[0m\n",
      "\u001b[0;32m/usr/local/lib/python3.10/dist-packages/pandas/core/apply.py\u001b[0m in \u001b[0;36mapply_standard\u001b[0;34m(self)\u001b[0m\n\u001b[1;32m   1505\u001b[0m         \u001b[0;31m#  Categorical (GH51645).\u001b[0m\u001b[0;34m\u001b[0m\u001b[0;34m\u001b[0m\u001b[0m\n\u001b[1;32m   1506\u001b[0m         \u001b[0maction\u001b[0m \u001b[0;34m=\u001b[0m \u001b[0;34m\"ignore\"\u001b[0m \u001b[0;32mif\u001b[0m \u001b[0misinstance\u001b[0m\u001b[0;34m(\u001b[0m\u001b[0mobj\u001b[0m\u001b[0;34m.\u001b[0m\u001b[0mdtype\u001b[0m\u001b[0;34m,\u001b[0m \u001b[0mCategoricalDtype\u001b[0m\u001b[0;34m)\u001b[0m \u001b[0;32melse\u001b[0m \u001b[0;32mNone\u001b[0m\u001b[0;34m\u001b[0m\u001b[0;34m\u001b[0m\u001b[0m\n\u001b[0;32m-> 1507\u001b[0;31m         mapped = obj._map_values(\n\u001b[0m\u001b[1;32m   1508\u001b[0m             \u001b[0mmapper\u001b[0m\u001b[0;34m=\u001b[0m\u001b[0mcurried\u001b[0m\u001b[0;34m,\u001b[0m \u001b[0mna_action\u001b[0m\u001b[0;34m=\u001b[0m\u001b[0maction\u001b[0m\u001b[0;34m,\u001b[0m \u001b[0mconvert\u001b[0m\u001b[0;34m=\u001b[0m\u001b[0mself\u001b[0m\u001b[0;34m.\u001b[0m\u001b[0mconvert_dtype\u001b[0m\u001b[0;34m\u001b[0m\u001b[0;34m\u001b[0m\u001b[0m\n\u001b[1;32m   1509\u001b[0m         )\n",
      "\u001b[0;32m/usr/local/lib/python3.10/dist-packages/pandas/core/base.py\u001b[0m in \u001b[0;36m_map_values\u001b[0;34m(self, mapper, na_action, convert)\u001b[0m\n\u001b[1;32m    919\u001b[0m             \u001b[0;32mreturn\u001b[0m \u001b[0marr\u001b[0m\u001b[0;34m.\u001b[0m\u001b[0mmap\u001b[0m\u001b[0;34m(\u001b[0m\u001b[0mmapper\u001b[0m\u001b[0;34m,\u001b[0m \u001b[0mna_action\u001b[0m\u001b[0;34m=\u001b[0m\u001b[0mna_action\u001b[0m\u001b[0;34m)\u001b[0m\u001b[0;34m\u001b[0m\u001b[0;34m\u001b[0m\u001b[0m\n\u001b[1;32m    920\u001b[0m \u001b[0;34m\u001b[0m\u001b[0m\n\u001b[0;32m--> 921\u001b[0;31m         \u001b[0;32mreturn\u001b[0m \u001b[0malgorithms\u001b[0m\u001b[0;34m.\u001b[0m\u001b[0mmap_array\u001b[0m\u001b[0;34m(\u001b[0m\u001b[0marr\u001b[0m\u001b[0;34m,\u001b[0m \u001b[0mmapper\u001b[0m\u001b[0;34m,\u001b[0m \u001b[0mna_action\u001b[0m\u001b[0;34m=\u001b[0m\u001b[0mna_action\u001b[0m\u001b[0;34m,\u001b[0m \u001b[0mconvert\u001b[0m\u001b[0;34m=\u001b[0m\u001b[0mconvert\u001b[0m\u001b[0;34m)\u001b[0m\u001b[0;34m\u001b[0m\u001b[0;34m\u001b[0m\u001b[0m\n\u001b[0m\u001b[1;32m    922\u001b[0m \u001b[0;34m\u001b[0m\u001b[0m\n\u001b[1;32m    923\u001b[0m     \u001b[0;34m@\u001b[0m\u001b[0mfinal\u001b[0m\u001b[0;34m\u001b[0m\u001b[0;34m\u001b[0m\u001b[0m\n",
      "\u001b[0;32m/usr/local/lib/python3.10/dist-packages/pandas/core/algorithms.py\u001b[0m in \u001b[0;36mmap_array\u001b[0;34m(arr, mapper, na_action, convert)\u001b[0m\n\u001b[1;32m   1741\u001b[0m     \u001b[0mvalues\u001b[0m \u001b[0;34m=\u001b[0m \u001b[0marr\u001b[0m\u001b[0;34m.\u001b[0m\u001b[0mastype\u001b[0m\u001b[0;34m(\u001b[0m\u001b[0mobject\u001b[0m\u001b[0;34m,\u001b[0m \u001b[0mcopy\u001b[0m\u001b[0;34m=\u001b[0m\u001b[0;32mFalse\u001b[0m\u001b[0;34m)\u001b[0m\u001b[0;34m\u001b[0m\u001b[0;34m\u001b[0m\u001b[0m\n\u001b[1;32m   1742\u001b[0m     \u001b[0;32mif\u001b[0m \u001b[0mna_action\u001b[0m \u001b[0;32mis\u001b[0m \u001b[0;32mNone\u001b[0m\u001b[0;34m:\u001b[0m\u001b[0;34m\u001b[0m\u001b[0;34m\u001b[0m\u001b[0m\n\u001b[0;32m-> 1743\u001b[0;31m         \u001b[0;32mreturn\u001b[0m \u001b[0mlib\u001b[0m\u001b[0;34m.\u001b[0m\u001b[0mmap_infer\u001b[0m\u001b[0;34m(\u001b[0m\u001b[0mvalues\u001b[0m\u001b[0;34m,\u001b[0m \u001b[0mmapper\u001b[0m\u001b[0;34m,\u001b[0m \u001b[0mconvert\u001b[0m\u001b[0;34m=\u001b[0m\u001b[0mconvert\u001b[0m\u001b[0;34m)\u001b[0m\u001b[0;34m\u001b[0m\u001b[0;34m\u001b[0m\u001b[0m\n\u001b[0m\u001b[1;32m   1744\u001b[0m     \u001b[0;32melse\u001b[0m\u001b[0;34m:\u001b[0m\u001b[0;34m\u001b[0m\u001b[0;34m\u001b[0m\u001b[0m\n\u001b[1;32m   1745\u001b[0m         return lib.map_infer_mask(\n",
      "\u001b[0;32mlib.pyx\u001b[0m in \u001b[0;36mpandas._libs.lib.map_infer\u001b[0;34m()\u001b[0m\n",
      "\u001b[0;32m<ipython-input-10-9289aa827345>\u001b[0m in \u001b[0;36m<lambda>\u001b[0;34m(x)\u001b[0m\n\u001b[1;32m      1\u001b[0m \u001b[0mdf\u001b[0m\u001b[0;34m[\u001b[0m\u001b[0;34m'strike_rate'\u001b[0m\u001b[0;34m]\u001b[0m\u001b[0;34m=\u001b[0m\u001b[0mdf\u001b[0m\u001b[0;34m[\u001b[0m\u001b[0;34m'strike_rate'\u001b[0m\u001b[0;34m]\u001b[0m\u001b[0;34m.\u001b[0m\u001b[0mastype\u001b[0m\u001b[0;34m(\u001b[0m\u001b[0mstr\u001b[0m\u001b[0;34m)\u001b[0m\u001b[0;34m\u001b[0m\u001b[0;34m\u001b[0m\u001b[0m\n\u001b[0;32m----> 2\u001b[0;31m \u001b[0mdf\u001b[0m\u001b[0;34m[\u001b[0m\u001b[0;34m'strike_rate'\u001b[0m\u001b[0;34m]\u001b[0m \u001b[0;34m=\u001b[0m \u001b[0mdf\u001b[0m\u001b[0;34m[\u001b[0m\u001b[0;34m'strike_rate'\u001b[0m\u001b[0;34m]\u001b[0m\u001b[0;34m.\u001b[0m\u001b[0mapply\u001b[0m\u001b[0;34m(\u001b[0m\u001b[0;32mlambda\u001b[0m \u001b[0mx\u001b[0m\u001b[0;34m:\u001b[0m \u001b[0mre\u001b[0m\u001b[0;34m.\u001b[0m\u001b[0msearch\u001b[0m\u001b[0;34m(\u001b[0m\u001b[0;34mr'\\d+(\\.\\d+)?'\u001b[0m\u001b[0;34m,\u001b[0m \u001b[0mx\u001b[0m\u001b[0;34m)\u001b[0m\u001b[0;34m.\u001b[0m\u001b[0mgroup\u001b[0m\u001b[0;34m(\u001b[0m\u001b[0;36m0\u001b[0m\u001b[0;34m)\u001b[0m \u001b[0;32mif\u001b[0m \u001b[0mre\u001b[0m\u001b[0;34m.\u001b[0m\u001b[0msearch\u001b[0m\u001b[0;34m(\u001b[0m\u001b[0;34mr'\\d+(\\.\\d+)?'\u001b[0m\u001b[0;34m,\u001b[0m \u001b[0mx\u001b[0m\u001b[0;34m)\u001b[0m \u001b[0;32melse\u001b[0m \u001b[0;32mNone\u001b[0m\u001b[0;34m)\u001b[0m\u001b[0;34m\u001b[0m\u001b[0;34m\u001b[0m\u001b[0m\n\u001b[0m\u001b[1;32m      3\u001b[0m \u001b[0mdf\u001b[0m\u001b[0;34m[\u001b[0m\u001b[0;34m'strike_rate'\u001b[0m\u001b[0;34m]\u001b[0m \u001b[0;34m=\u001b[0m \u001b[0mdf\u001b[0m\u001b[0;34m[\u001b[0m\u001b[0;34m'strike_rate'\u001b[0m\u001b[0;34m]\u001b[0m\u001b[0;34m.\u001b[0m\u001b[0mastype\u001b[0m\u001b[0;34m(\u001b[0m\u001b[0mfloat\u001b[0m\u001b[0;34m)\u001b[0m\u001b[0;34m\u001b[0m\u001b[0;34m\u001b[0m\u001b[0m\n",
      "\u001b[0;31mNameError\u001b[0m: name 're' is not defined"
     ]
    }
   ],
   "source": [
    "df['strike_rate']=df['strike_rate'].astype(str)\n",
    "df['strike_rate'] = df['strike_rate'].apply(lambda x: re.search(r'\\d+(\\.\\d+)?', x).group(0) if re.search(r'\\d+(\\.\\d+)?', x) else None)\n",
    "df['strike_rate'] = df['strike_rate'].astype(float)"
   ]
  },
  {
   "cell_type": "code",
   "execution_count": null,
   "id": "50f73468",
   "metadata": {
    "execution": {
     "iopub.execute_input": "2025-03-07T07:45:57.672686Z",
     "iopub.status.busy": "2025-03-07T07:45:57.672209Z",
     "iopub.status.idle": "2025-03-07T07:45:57.683473Z",
     "shell.execute_reply": "2025-03-07T07:45:57.680953Z",
     "shell.execute_reply.started": "2025-03-07T07:45:57.672643Z"
    },
    "papermill": {
     "duration": null,
     "end_time": null,
     "exception": null,
     "start_time": null,
     "status": "pending"
    },
    "tags": []
   },
   "outputs": [],
   "source": [
    "df['average']=df['average'].astype(str)\n",
    "df['average']=df['average'].apply(lambda x: re.search(r'\\d+(\\.\\d+)?', x).group(0) if re.search(r'\\d+(\\.\\d+)?', x) else None)\n",
    "df['average']=df['average'].astype(float)"
   ]
  },
  {
   "cell_type": "code",
   "execution_count": null,
   "id": "ceee547a",
   "metadata": {
    "execution": {
     "iopub.execute_input": "2025-03-07T07:45:58.977297Z",
     "iopub.status.busy": "2025-03-07T07:45:58.976851Z",
     "iopub.status.idle": "2025-03-07T07:45:58.988884Z",
     "shell.execute_reply": "2025-03-07T07:45:58.986850Z",
     "shell.execute_reply.started": "2025-03-07T07:45:58.977235Z"
    },
    "papermill": {
     "duration": null,
     "end_time": null,
     "exception": null,
     "start_time": null,
     "status": "pending"
    },
    "tags": []
   },
   "outputs": [],
   "source": [
    "# Cleaning 'percentage' column (removing %, converting commas to dots)\n",
    "df['percentage'] = df['percentage'].astype(str)\n",
    "df['percentage'] = df['percentage'].str.replace(',', '.').str.replace('%', '')\n",
    "df['percentage'] = pd.to_numeric(df['percentage'], errors='coerce')"
   ]
  },
  {
   "cell_type": "code",
   "execution_count": null,
   "id": "d3befe9b",
   "metadata": {
    "execution": {
     "iopub.execute_input": "2025-03-07T07:45:59.821050Z",
     "iopub.status.busy": "2025-03-07T07:45:59.820539Z",
     "iopub.status.idle": "2025-03-07T07:45:59.831174Z",
     "shell.execute_reply": "2025-03-07T07:45:59.829635Z",
     "shell.execute_reply.started": "2025-03-07T07:45:59.821005Z"
    },
    "papermill": {
     "duration": null,
     "end_time": null,
     "exception": null,
     "start_time": null,
     "status": "pending"
    },
    "tags": []
   },
   "outputs": [],
   "source": [
    "print(df[['strike_rate', 'average', 'percentage']].head())"
   ]
  },
  {
   "cell_type": "code",
   "execution_count": null,
   "id": "8dc3b519",
   "metadata": {
    "execution": {
     "iopub.execute_input": "2025-03-07T07:48:22.975209Z",
     "iopub.status.busy": "2025-03-07T07:48:22.974863Z",
     "iopub.status.idle": "2025-03-07T07:48:23.687400Z",
     "shell.execute_reply": "2025-03-07T07:48:23.685945Z",
     "shell.execute_reply.started": "2025-03-07T07:48:22.975179Z"
    },
    "papermill": {
     "duration": null,
     "end_time": null,
     "exception": null,
     "start_time": null,
     "status": "pending"
    },
    "tags": []
   },
   "outputs": [],
   "source": [
    "sns.set_style('whitegrid')\n",
    "fig, axes=plt.subplots(1,2 ,figsize=(12,5))\n",
    "sns.histplot(df['strike_rate'].dropna(), bins=30, kde=True, ax=axes[0], color='blue')\n",
    "axes[0].set_title(\"Distribution of Strike Rate\")\n",
    "\n",
    "sns.histplot(df['average'].dropna(), bins=30, kde=True, ax=axes[1], color='green')\n",
    "axes[1].set_title(\"Distribution of Average\")\n",
    "\n",
    "plt.tight_layout()\n",
    "plt.show()"
   ]
  },
  {
   "cell_type": "code",
   "execution_count": null,
   "id": "1699dc59",
   "metadata": {
    "execution": {
     "iopub.execute_input": "2025-03-07T07:52:49.170792Z",
     "iopub.status.busy": "2025-03-07T07:52:49.170375Z",
     "iopub.status.idle": "2025-03-07T07:52:49.181497Z",
     "shell.execute_reply": "2025-03-07T07:52:49.180004Z",
     "shell.execute_reply.started": "2025-03-07T07:52:49.170756Z"
    },
    "papermill": {
     "duration": null,
     "end_time": null,
     "exception": null,
     "start_time": null,
     "status": "pending"
    },
    "tags": []
   },
   "outputs": [],
   "source": [
    "# printing top 10 player by strike\n",
    "print(df[['player_name', 'strike_rate']].sort_values(by='strike_rate', ascending=False).head(10))"
   ]
  },
  {
   "cell_type": "code",
   "execution_count": null,
   "id": "8b73d0fa",
   "metadata": {
    "execution": {
     "iopub.execute_input": "2025-03-07T07:53:38.549023Z",
     "iopub.status.busy": "2025-03-07T07:53:38.548611Z",
     "iopub.status.idle": "2025-03-07T07:53:38.560879Z",
     "shell.execute_reply": "2025-03-07T07:53:38.558599Z",
     "shell.execute_reply.started": "2025-03-07T07:53:38.548993Z"
    },
    "papermill": {
     "duration": null,
     "end_time": null,
     "exception": null,
     "start_time": null,
     "status": "pending"
    },
    "tags": []
   },
   "outputs": [],
   "source": [
    "# top 10 player by Batting Average\n",
    "print(df[['player_name', 'average']].sort_values(by='average', ascending=False).head(10))"
   ]
  },
  {
   "cell_type": "code",
   "execution_count": null,
   "id": "9d20c8f7",
   "metadata": {
    "execution": {
     "iopub.execute_input": "2025-03-07T07:54:59.253509Z",
     "iopub.status.busy": "2025-03-07T07:54:59.253172Z",
     "iopub.status.idle": "2025-03-07T07:54:59.485159Z",
     "shell.execute_reply": "2025-03-07T07:54:59.483264Z",
     "shell.execute_reply.started": "2025-03-07T07:54:59.253485Z"
    },
    "papermill": {
     "duration": null,
     "end_time": null,
     "exception": null,
     "start_time": null,
     "status": "pending"
    },
    "tags": []
   },
   "outputs": [],
   "source": [
    "plt.figure(figsize=(8,5))\n",
    "sns.heatmap(df[['strike_rate', 'average', 'percentage']].corr(), annot=True, cmap=\"coolwarm\")\n",
    "plt.title(\"Correlation Matrix\")\n",
    "plt.show()"
   ]
  }
 ],
 "metadata": {
  "kaggle": {
   "accelerator": "none",
   "dataSources": [
    {
     "datasetId": 6728238,
     "sourceId": 10834643,
     "sourceType": "datasetVersion"
    }
   ],
   "dockerImageVersionId": 30918,
   "isGpuEnabled": false,
   "isInternetEnabled": true,
   "language": "python",
   "sourceType": "notebook"
  },
  "kernelspec": {
   "display_name": "Python 3",
   "language": "python",
   "name": "python3"
  },
  "language_info": {
   "codemirror_mode": {
    "name": "ipython",
    "version": 3
   },
   "file_extension": ".py",
   "mimetype": "text/x-python",
   "name": "python",
   "nbconvert_exporter": "python",
   "pygments_lexer": "ipython3",
   "version": "3.10.12"
  },
  "papermill": {
   "default_parameters": {},
   "duration": 6.670535,
   "end_time": "2025-03-07T07:56:47.692637",
   "environment_variables": {},
   "exception": true,
   "input_path": "__notebook__.ipynb",
   "output_path": "__notebook__.ipynb",
   "parameters": {},
   "start_time": "2025-03-07T07:56:41.022102",
   "version": "2.6.0"
  }
 },
 "nbformat": 4,
 "nbformat_minor": 5
}
